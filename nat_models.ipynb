{
 "cells": [
  {
   "cell_type": "markdown",
   "id": "b79cac7b-b44a-4623-9a88-5cfc039127b3",
   "metadata": {},
   "source": [
    "### This Dev notebook builds simple OLS model to predict baby weight\n",
    "\n",
    "### Outline:\n",
    "1. Ingest data using BigQuery API, clean it.\n",
    "2. Build a model.\n",
    "3. Save model artifacts.\n",
    "4. Test model artifacts."
   ]
  },
  {
   "cell_type": "markdown",
   "id": "99692c77-f53e-4b01-9ac5-efdb2e3112c8",
   "metadata": {},
   "source": [
    "## 1."
   ]
  },
  {
   "cell_type": "code",
   "execution_count": 42,
   "id": "4b3dc9f8-2dfb-45ae-af08-aaa83b051eed",
   "metadata": {},
   "outputs": [],
   "source": [
    "project_name = 'My First Project'\n",
    "project_id = 'valid-heuristic-369117'\n",
    "regionn = 'us-west1'\n",
    "app_folder = '/home/jupyter/test_projects/test_natality/natality-app'"
   ]
  },
  {
   "cell_type": "code",
   "execution_count": 43,
   "id": "d1fe9ef4-1add-4a74-b94a-cdad0456211e",
   "metadata": {},
   "outputs": [],
   "source": [
    "import pandas as pd\n",
    "import xgboost as xgb\n",
    "import numpy as np\n",
    "import time\n",
    "import pickle\n",
    "import os\n",
    "import joblib\n",
    "\n",
    "from sklearn.linear_model import LinearRegression\n",
    "from sklearn.model_selection import train_test_split\n",
    "from sklearn.metrics import mean_squared_error\n",
    "from sklearn.utils import shuffle\n",
    "from xgboost import XGBRegressor\n",
    "from google.cloud import bigquery, storage\n",
    "\n",
    "# xgb.__version__\n",
    "os.chdir(app_folder)"
   ]
  },
  {
   "cell_type": "code",
   "execution_count": 44,
   "id": "8aa2455b-f13e-486e-b050-79b1b37e85d6",
   "metadata": {},
   "outputs": [
    {
     "data": {
      "text/plain": [
       "(10000, 5)"
      ]
     },
     "metadata": {},
     "output_type": "display_data"
    },
    {
     "data": {
      "text/html": [
       "<div>\n",
       "<style scoped>\n",
       "    .dataframe tbody tr th:only-of-type {\n",
       "        vertical-align: middle;\n",
       "    }\n",
       "\n",
       "    .dataframe tbody tr th {\n",
       "        vertical-align: top;\n",
       "    }\n",
       "\n",
       "    .dataframe thead th {\n",
       "        text-align: right;\n",
       "    }\n",
       "</style>\n",
       "<table border=\"1\" class=\"dataframe\">\n",
       "  <thead>\n",
       "    <tr style=\"text-align: right;\">\n",
       "      <th></th>\n",
       "      <th>weight_pounds</th>\n",
       "      <th>is_male</th>\n",
       "      <th>mother_age</th>\n",
       "      <th>plurality</th>\n",
       "      <th>gestation_weeks</th>\n",
       "    </tr>\n",
       "  </thead>\n",
       "  <tbody>\n",
       "    <tr>\n",
       "      <th>0</th>\n",
       "      <td>3.875727</td>\n",
       "      <td>True</td>\n",
       "      <td>34</td>\n",
       "      <td>1</td>\n",
       "      <td>35</td>\n",
       "    </tr>\n",
       "    <tr>\n",
       "      <th>1</th>\n",
       "      <td>7.063611</td>\n",
       "      <td>False</td>\n",
       "      <td>30</td>\n",
       "      <td>1</td>\n",
       "      <td>37</td>\n",
       "    </tr>\n",
       "    <tr>\n",
       "      <th>2</th>\n",
       "      <td>7.749249</td>\n",
       "      <td>True</td>\n",
       "      <td>31</td>\n",
       "      <td>1</td>\n",
       "      <td>41</td>\n",
       "    </tr>\n",
       "    <tr>\n",
       "      <th>3</th>\n",
       "      <td>6.999677</td>\n",
       "      <td>False</td>\n",
       "      <td>40</td>\n",
       "      <td>1</td>\n",
       "      <td>39</td>\n",
       "    </tr>\n",
       "    <tr>\n",
       "      <th>4</th>\n",
       "      <td>7.936641</td>\n",
       "      <td>True</td>\n",
       "      <td>24</td>\n",
       "      <td>1</td>\n",
       "      <td>38</td>\n",
       "    </tr>\n",
       "  </tbody>\n",
       "</table>\n",
       "</div>"
      ],
      "text/plain": [
       "   weight_pounds  is_male  mother_age  plurality  gestation_weeks\n",
       "0       3.875727     True          34          1               35\n",
       "1       7.063611    False          30          1               37\n",
       "2       7.749249     True          31          1               41\n",
       "3       6.999677    False          40          1               39\n",
       "4       7.936641     True          24          1               38"
      ]
     },
     "metadata": {},
     "output_type": "display_data"
    }
   ],
   "source": [
    "time0 = time.time()\n",
    "\n",
    "query=\"\"\"\n",
    "SELECT\n",
    "  weight_pounds,\n",
    "  is_male,\n",
    "  mother_age,\n",
    "  plurality,\n",
    "  gestation_weeks\n",
    "FROM\n",
    "  publicdata.samples.natality\n",
    "WHERE year > 2000\n",
    "LIMIT 10000\n",
    "\"\"\"\n",
    "df = bigquery.Client().query(query).to_dataframe()\n",
    "display(df.shape, df.head())"
   ]
  },
  {
   "cell_type": "code",
   "execution_count": 45,
   "id": "5671c438-41e2-4240-b348-dc67472ee53b",
   "metadata": {},
   "outputs": [
    {
     "data": {
      "text/html": [
       "<div>\n",
       "<style scoped>\n",
       "    .dataframe tbody tr th:only-of-type {\n",
       "        vertical-align: middle;\n",
       "    }\n",
       "\n",
       "    .dataframe tbody tr th {\n",
       "        vertical-align: top;\n",
       "    }\n",
       "\n",
       "    .dataframe thead th {\n",
       "        text-align: right;\n",
       "    }\n",
       "</style>\n",
       "<table border=\"1\" class=\"dataframe\">\n",
       "  <thead>\n",
       "    <tr style=\"text-align: right;\">\n",
       "      <th></th>\n",
       "      <th>weight_pounds</th>\n",
       "      <th>is_male</th>\n",
       "      <th>mother_age</th>\n",
       "      <th>plurality</th>\n",
       "      <th>gestation_weeks</th>\n",
       "    </tr>\n",
       "  </thead>\n",
       "  <tbody>\n",
       "    <tr>\n",
       "      <th>count</th>\n",
       "      <td>9991.000000</td>\n",
       "      <td>10000</td>\n",
       "      <td>10000.000000</td>\n",
       "      <td>10000.000000</td>\n",
       "      <td>9939.00000</td>\n",
       "    </tr>\n",
       "    <tr>\n",
       "      <th>unique</th>\n",
       "      <td>NaN</td>\n",
       "      <td>2</td>\n",
       "      <td>NaN</td>\n",
       "      <td>NaN</td>\n",
       "      <td>NaN</td>\n",
       "    </tr>\n",
       "    <tr>\n",
       "      <th>top</th>\n",
       "      <td>NaN</td>\n",
       "      <td>True</td>\n",
       "      <td>NaN</td>\n",
       "      <td>NaN</td>\n",
       "      <td>NaN</td>\n",
       "    </tr>\n",
       "    <tr>\n",
       "      <th>freq</th>\n",
       "      <td>NaN</td>\n",
       "      <td>5098</td>\n",
       "      <td>NaN</td>\n",
       "      <td>NaN</td>\n",
       "      <td>NaN</td>\n",
       "    </tr>\n",
       "    <tr>\n",
       "      <th>mean</th>\n",
       "      <td>7.195418</td>\n",
       "      <td>NaN</td>\n",
       "      <td>27.297300</td>\n",
       "      <td>1.035200</td>\n",
       "      <td>38.52792</td>\n",
       "    </tr>\n",
       "    <tr>\n",
       "      <th>std</th>\n",
       "      <td>1.339473</td>\n",
       "      <td>NaN</td>\n",
       "      <td>6.132917</td>\n",
       "      <td>0.193299</td>\n",
       "      <td>2.60939</td>\n",
       "    </tr>\n",
       "    <tr>\n",
       "      <th>min</th>\n",
       "      <td>0.500449</td>\n",
       "      <td>NaN</td>\n",
       "      <td>13.000000</td>\n",
       "      <td>1.000000</td>\n",
       "      <td>17.00000</td>\n",
       "    </tr>\n",
       "    <tr>\n",
       "      <th>25%</th>\n",
       "      <td>6.560957</td>\n",
       "      <td>NaN</td>\n",
       "      <td>22.000000</td>\n",
       "      <td>1.000000</td>\n",
       "      <td>38.00000</td>\n",
       "    </tr>\n",
       "    <tr>\n",
       "      <th>50%</th>\n",
       "      <td>7.312733</td>\n",
       "      <td>NaN</td>\n",
       "      <td>27.000000</td>\n",
       "      <td>1.000000</td>\n",
       "      <td>39.00000</td>\n",
       "    </tr>\n",
       "    <tr>\n",
       "      <th>75%</th>\n",
       "      <td>8.000575</td>\n",
       "      <td>NaN</td>\n",
       "      <td>32.000000</td>\n",
       "      <td>1.000000</td>\n",
       "      <td>40.00000</td>\n",
       "    </tr>\n",
       "    <tr>\n",
       "      <th>max</th>\n",
       "      <td>11.938031</td>\n",
       "      <td>NaN</td>\n",
       "      <td>50.000000</td>\n",
       "      <td>3.000000</td>\n",
       "      <td>47.00000</td>\n",
       "    </tr>\n",
       "  </tbody>\n",
       "</table>\n",
       "</div>"
      ],
      "text/plain": [
       "        weight_pounds is_male    mother_age     plurality  gestation_weeks\n",
       "count     9991.000000   10000  10000.000000  10000.000000       9939.00000\n",
       "unique            NaN       2           NaN           NaN              NaN\n",
       "top               NaN    True           NaN           NaN              NaN\n",
       "freq              NaN    5098           NaN           NaN              NaN\n",
       "mean         7.195418     NaN     27.297300      1.035200         38.52792\n",
       "std          1.339473     NaN      6.132917      0.193299          2.60939\n",
       "min          0.500449     NaN     13.000000      1.000000         17.00000\n",
       "25%          6.560957     NaN     22.000000      1.000000         38.00000\n",
       "50%          7.312733     NaN     27.000000      1.000000         39.00000\n",
       "75%          8.000575     NaN     32.000000      1.000000         40.00000\n",
       "max         11.938031     NaN     50.000000      3.000000         47.00000"
      ]
     },
     "metadata": {},
     "output_type": "display_data"
    },
    {
     "data": {
      "text/plain": [
       "True     5098\n",
       "False    4902\n",
       "Name: is_male, dtype: Int64"
      ]
     },
     "metadata": {},
     "output_type": "display_data"
    }
   ],
   "source": [
    "display(df.describe())\n",
    "display(df.is_male.value_counts())"
   ]
  },
  {
   "cell_type": "code",
   "execution_count": 46,
   "id": "533f22de-4611-4856-bd14-614c6ae3715e",
   "metadata": {},
   "outputs": [
    {
     "data": {
      "text/plain": [
       "(7450, 4)"
      ]
     },
     "metadata": {},
     "output_type": "display_data"
    },
    {
     "data": {
      "text/html": [
       "<div>\n",
       "<style scoped>\n",
       "    .dataframe tbody tr th:only-of-type {\n",
       "        vertical-align: middle;\n",
       "    }\n",
       "\n",
       "    .dataframe tbody tr th {\n",
       "        vertical-align: top;\n",
       "    }\n",
       "\n",
       "    .dataframe thead th {\n",
       "        text-align: right;\n",
       "    }\n",
       "</style>\n",
       "<table border=\"1\" class=\"dataframe\">\n",
       "  <thead>\n",
       "    <tr style=\"text-align: right;\">\n",
       "      <th></th>\n",
       "      <th>is_male</th>\n",
       "      <th>mother_age</th>\n",
       "      <th>plurality</th>\n",
       "      <th>gestation_weeks</th>\n",
       "    </tr>\n",
       "  </thead>\n",
       "  <tbody>\n",
       "    <tr>\n",
       "      <th>608</th>\n",
       "      <td>1</td>\n",
       "      <td>27</td>\n",
       "      <td>1</td>\n",
       "      <td>40</td>\n",
       "    </tr>\n",
       "    <tr>\n",
       "      <th>803</th>\n",
       "      <td>1</td>\n",
       "      <td>24</td>\n",
       "      <td>2</td>\n",
       "      <td>36</td>\n",
       "    </tr>\n",
       "    <tr>\n",
       "      <th>7607</th>\n",
       "      <td>1</td>\n",
       "      <td>28</td>\n",
       "      <td>1</td>\n",
       "      <td>40</td>\n",
       "    </tr>\n",
       "    <tr>\n",
       "      <th>4132</th>\n",
       "      <td>0</td>\n",
       "      <td>28</td>\n",
       "      <td>1</td>\n",
       "      <td>41</td>\n",
       "    </tr>\n",
       "    <tr>\n",
       "      <th>579</th>\n",
       "      <td>1</td>\n",
       "      <td>25</td>\n",
       "      <td>1</td>\n",
       "      <td>38</td>\n",
       "    </tr>\n",
       "  </tbody>\n",
       "</table>\n",
       "</div>"
      ],
      "text/plain": [
       "      is_male  mother_age  plurality  gestation_weeks\n",
       "608         1          27          1               40\n",
       "803         1          24          2               36\n",
       "7607        1          28          1               40\n",
       "4132        0          28          1               41\n",
       "579         1          25          1               38"
      ]
     },
     "metadata": {},
     "output_type": "display_data"
    },
    {
     "data": {
      "text/plain": [
       "(2484, 4)"
      ]
     },
     "metadata": {},
     "output_type": "display_data"
    },
    {
     "data": {
      "text/plain": [
       "(7450,)"
      ]
     },
     "metadata": {},
     "output_type": "display_data"
    }
   ],
   "source": [
    "df['is_male'] = df['is_male'].astype(int)\n",
    "df = df.dropna()\n",
    "df = shuffle(df, random_state=2)\n",
    "\n",
    "labels = df['weight_pounds']\n",
    "data = df.drop(columns=['weight_pounds'])\n",
    "X,y = data,labels\n",
    "X_train, X_test, y_train, y_test = train_test_split(X, y)\n",
    "\n",
    "display(X_train.shape, X_train.head(), X_test.shape, y_train.shape)"
   ]
  },
  {
   "cell_type": "markdown",
   "id": "5ff3e7c1-2ae3-4512-9eb7-259ac24eef12",
   "metadata": {},
   "source": [
    "## 2."
   ]
  },
  {
   "cell_type": "code",
   "execution_count": 47,
   "id": "36b3f76a-8cce-4349-859f-66337eb070cb",
   "metadata": {},
   "outputs": [
    {
     "name": "stdout",
     "output_type": "stream",
     "text": [
      "0.3740370273590088\n"
     ]
    }
   ],
   "source": [
    "time1 = time.time()\n",
    "lr = LinearRegression()\n",
    "xgbm = XGBRegressor(n_estimators=100,\n",
    "                  eta=0.1,\n",
    "                  max_depth=4,\n",
    "                  subsample=0.6)\n",
    "\n",
    "lr.fit(X_train, y_train)\n",
    "xgbm.fit(X_train, y_train)\n",
    "model_copied = lr\n",
    "\n",
    "print(time.time()-time1)"
   ]
  },
  {
   "cell_type": "code",
   "execution_count": 48,
   "id": "680f191e-619d-48bc-ad1e-70413f585860",
   "metadata": {},
   "outputs": [
    {
     "name": "stdout",
     "output_type": "stream",
     "text": [
      "Predicted weight:  6.507847814934973\n",
      "Actual weight:  6.8122838958\n",
      "\n",
      "train lr rmse: 1.0484199700629748\n",
      "train xgb rmse: 0.9822201376204437\n",
      "test lr rmse: 1.0566489303565303\n",
      "test xgb rmse: 1.0268381173376158\n"
     ]
    }
   ],
   "source": [
    "y_pred = lr.predict(X_test)\n",
    "\n",
    "for i in range(1):\n",
    "    print('Predicted weight: ', y_pred[i])\n",
    "    print('Actual weight: ', y_test.iloc[i])\n",
    "    print()\n",
    "    \n",
    "print(f'train lr rmse: {np.sqrt(mean_squared_error(y_train, lr.predict(X_train)))}')\n",
    "print(f'train xgb rmse: {np.sqrt(mean_squared_error(y_train, xgbm.predict(X_train)))}')\n",
    "print(f'test lr rmse: {np.sqrt(mean_squared_error(y_test, lr.predict(X_test)))}')\n",
    "print(f'test xgb rmse: {np.sqrt(mean_squared_error(y_test, xgbm.predict(X_test)))}')"
   ]
  },
  {
   "cell_type": "markdown",
   "id": "facec5ae-4960-40b2-ae56-eefadd879149",
   "metadata": {},
   "source": [
    "## 3."
   ]
  },
  {
   "cell_type": "code",
   "execution_count": 49,
   "id": "54183651-50eb-4bd7-ad96-484b083ff0b9",
   "metadata": {},
   "outputs": [
    {
     "name": "stdout",
     "output_type": "stream",
     "text": [
      "/home/jupyter/test_projects/test_natality/natality-app\n"
     ]
    }
   ],
   "source": [
    "print(os.getcwd())\n",
    "\n",
    "artifact_filename_lm = 'lr_model.pkl'\n",
    "artifact_filename_xgb = 'xgb_model.json'\n",
    "\n",
    "# joblib.dump(lr, artifact_filename_lm)\n",
    "# xgbm.save_model(artifact_filename_xgb)\n",
    "\n",
    "# os.chdir('/home/jupyter/project_repos/pg_natality/pg_natality/natality-app')\n",
    "joblib.dump(lr, artifact_filename_lm)\n",
    "xgbm.save_model(artifact_filename_xgb)\n",
    "\n",
    "# os.chdir('/home/jupyter/project_repos/pg_natality/pg_natality')\n",
    "\n",
    "# artifact_filename_xgb = 'xgb_model.json'\n",
    "# xgbm.save_model(artifact_filename_xgb)"
   ]
  },
  {
   "cell_type": "code",
   "execution_count": 50,
   "id": "9b783a1b-89fe-416f-ab10-6ccb7c9a45f4",
   "metadata": {},
   "outputs": [],
   "source": [
    "model_bucket = 'gs://pmykola-testprojects/natality'\n",
    "storage_path = os.path.join(model_bucket, artifact_filename_lm)\n",
    "blob = storage.blob.Blob.from_string(storage_path, client=storage.Client(project=project_id))\n",
    "blob.upload_from_filename(os.getcwd()+'/'+artifact_filename_lm)\n",
    "storage_path = os.path.join(model_bucket, artifact_filename_xgb)\n",
    "blob = storage.blob.Blob.from_string(storage_path, client=storage.Client(project=project_id))\n",
    "blob.upload_from_filename(os.getcwd()+'/'+artifact_filename_xgb)"
   ]
  },
  {
   "cell_type": "markdown",
   "id": "9fcb6eff-5fef-400c-b95f-5888ab34f5d0",
   "metadata": {},
   "source": [
    "## 4."
   ]
  },
  {
   "cell_type": "code",
   "execution_count": 51,
   "id": "200d24fb-eb3d-4f42-9e18-b3596c5e0255",
   "metadata": {},
   "outputs": [
    {
     "name": "stdout",
     "output_type": "stream",
     "text": [
      "lm prediction: [6.50784781]. \n",
      "Total time is 3.472719192504883 sec\n"
     ]
    },
    {
     "name": "stderr",
     "output_type": "stream",
     "text": [
      "/opt/conda/lib/python3.7/site-packages/sklearn/base.py:451: UserWarning: X does not have valid feature names, but LinearRegression was fitted with feature names\n",
      "  \"X does not have valid feature names, but\"\n"
     ]
    }
   ],
   "source": [
    "file = open(artifact_filename_lm, \"rb\")\n",
    "trained_model = joblib.load(file)\n",
    "prediction = trained_model.predict([list(X_test.iloc[0,:])])\n",
    "print(f'''lm prediction: {prediction}. \n",
    "Total time is {time.time()-time0} sec''')"
   ]
  }
 ],
 "metadata": {
  "environment": {
   "kernel": "python3",
   "name": "common-cpu.m100",
   "type": "gcloud",
   "uri": "gcr.io/deeplearning-platform-release/base-cpu:m100"
  },
  "kernelspec": {
   "display_name": "Python 3",
   "language": "python",
   "name": "python3"
  },
  "language_info": {
   "codemirror_mode": {
    "name": "ipython",
    "version": 3
   },
   "file_extension": ".py",
   "mimetype": "text/x-python",
   "name": "python",
   "nbconvert_exporter": "python",
   "pygments_lexer": "ipython3",
   "version": "3.7.12"
  }
 },
 "nbformat": 4,
 "nbformat_minor": 5
}
